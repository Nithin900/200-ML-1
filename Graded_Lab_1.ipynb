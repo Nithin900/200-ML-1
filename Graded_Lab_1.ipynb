{
 "cells": [
  {
   "cell_type": "markdown",
   "metadata": {
    "tags": []
   },
   "source": [
    "## DAB200 -- Graded Lab 1\n",
    "\n",
    "In this lab, you will gain some experience in **denoising** a dataset in the context of a specific objective. \n",
    "\n",
    "**Overall Objective**: Create a model that predicts rent prices as well as possible for typical New York City apartments."
   ]
  },
  {
   "cell_type": "markdown",
   "metadata": {},
   "source": [
    "**Data set**: make sure you use the data with the same number as your group number!\n",
    "\n",
    "| Group | Data set |\n",
    "| :-: | :-: |\n",
    "| 1 | rent_1.csv |\n",
    "| 2 | rent_2.csv |\n",
    "| etc. | etc. |\n",
    "\n",
    "**Important Notes:**\n",
    " - This lab is more open-ended so be prepared to think on your own, in a logical way, in order to solve the problem at hand\n",
    "     - You should be able to support any decision you make with logical evidence\n",
    " - The data looks like the data we have been using in class but it has other **surprises**\n",
    "     - Be sure to investigate the data in a way that allows you to discover all these surprises\n",
    " - Use [Chapter 5](https://mlbook.explained.ai/prep.html) of the textbook as a **guide**, except:\n",
    "     - you only need to use **random forest** models;\n",
    "     - exclude Section 5.5; \n",
    " - Code submitted for this lab should be:\n",
    "     - error free\n",
    "         - to make sure this is the case, before submitting, close all Jupyter notebooks, exit VS Code, reload the notebook and execute all cells\n",
    "     - final code\n",
    "         - this means that I don't want to see every piece of code you try as you work through this lab but only the final code; only the code that fulfills the objective\n",
    " - Use the **out-of-bag score** to evaluate models\n",
    "     - Read Section 5.2 carefully so that you use this method properly\n",
    "     - The oob score that you provide should be the average of 10 runs\n",
    " - Don't make assumptions!\n",
    "\n",
    "I have broken the lab down into 4 main parts. "
   ]
  },
  {
   "cell_type": "markdown",
   "metadata": {},
   "source": [
    "### Part 0\n",
    "\n",
    "Please provide the following information:\n",
    " - Group Number: \n",
    " - Group Members\n",
    "     - Name (Student ID)\n",
    "     - Name (Student ID)\n",
    "     - Name (Student ID)\n",
    "     - ........\n",
    "\n",
    "     "
   ]
  },
  {
   "cell_type": "markdown",
   "metadata": {},
   "source": [
    "### Part 1 - Create and evaluate an initial model\n",
    "\n",
    "#### Code (15 marks)"
   ]
  },
  {
   "cell_type": "code",
   "execution_count": 1,
   "metadata": {},
   "outputs": [
    {
     "name": "stdout",
     "output_type": "stream",
     "text": [
      "(20000, 16)\n"
     ]
    },
    {
     "data": {
      "text/html": [
       "<div>\n",
       "<style scoped>\n",
       "    .dataframe tbody tr th:only-of-type {\n",
       "        vertical-align: middle;\n",
       "    }\n",
       "\n",
       "    .dataframe tbody tr th {\n",
       "        vertical-align: top;\n",
       "    }\n",
       "\n",
       "    .dataframe thead th {\n",
       "        text-align: right;\n",
       "    }\n",
       "</style>\n",
       "<table border=\"1\" class=\"dataframe\">\n",
       "  <thead>\n",
       "    <tr style=\"text-align: right;\">\n",
       "      <th></th>\n",
       "      <th>bathrooms</th>\n",
       "      <th>bedrooms</th>\n",
       "      <th>building_id</th>\n",
       "      <th>created</th>\n",
       "      <th>description</th>\n",
       "      <th>display_address</th>\n",
       "      <th>features</th>\n",
       "      <th>latitude</th>\n",
       "      <th>longitude</th>\n",
       "      <th>manager_id</th>\n",
       "      <th>photos</th>\n",
       "      <th>price</th>\n",
       "      <th>street_address</th>\n",
       "      <th>interest_level</th>\n",
       "      <th>num_desc_words</th>\n",
       "      <th>num_photos</th>\n",
       "    </tr>\n",
       "  </thead>\n",
       "  <tbody>\n",
       "    <tr>\n",
       "      <th>0</th>\n",
       "      <td>1.0</td>\n",
       "      <td>0</td>\n",
       "      <td>c94301249b8c09429d329864d58e5b82</td>\n",
       "      <td>2016-04-18 11:44:15</td>\n",
       "      <td>Amazing, bright and spacious studio/convertibl...</td>\n",
       "      <td>Gold Street</td>\n",
       "      <td>['Common Outdoor Space', 'Cats Allowed', 'Dogs...</td>\n",
       "      <td>40.7076</td>\n",
       "      <td>-74.0080</td>\n",
       "      <td>c25515933b3ecbb28e56e0c7f030f58c</td>\n",
       "      <td>['https://photos.renthop.com/2/6890979_d2087d7...</td>\n",
       "      <td>2659</td>\n",
       "      <td>2 Gold Street</td>\n",
       "      <td>low</td>\n",
       "      <td>88</td>\n",
       "      <td>12</td>\n",
       "    </tr>\n",
       "    <tr>\n",
       "      <th>1</th>\n",
       "      <td>1.0</td>\n",
       "      <td>4</td>\n",
       "      <td>1edde1c89233fb1b1a38c53e992b0756</td>\n",
       "      <td>2016-06-28 06:22:08</td>\n",
       "      <td>!!!!!!!!AVAILABLE NOW!!!!!!ALL UTILITIES INCLU...</td>\n",
       "      <td>1st Ave.</td>\n",
       "      <td>['Dishwasher', 'Hardwood Floors', 'Outdoor Spa...</td>\n",
       "      <td>40.7317</td>\n",
       "      <td>-73.9821</td>\n",
       "      <td>54bf50a3e709c0bd499f9fdca5826147</td>\n",
       "      <td>['https://photos.renthop.com/2/7227168_53e6c29...</td>\n",
       "      <td>5850</td>\n",
       "      <td>252 1st Ave.</td>\n",
       "      <td>low</td>\n",
       "      <td>147</td>\n",
       "      <td>7</td>\n",
       "    </tr>\n",
       "  </tbody>\n",
       "</table>\n",
       "</div>"
      ],
      "text/plain": [
       "   bathrooms  bedrooms                       building_id              created  \\\n",
       "0        1.0         0  c94301249b8c09429d329864d58e5b82  2016-04-18 11:44:15   \n",
       "1        1.0         4  1edde1c89233fb1b1a38c53e992b0756  2016-06-28 06:22:08   \n",
       "\n",
       "                                         description display_address  \\\n",
       "0  Amazing, bright and spacious studio/convertibl...     Gold Street   \n",
       "1  !!!!!!!!AVAILABLE NOW!!!!!!ALL UTILITIES INCLU...        1st Ave.   \n",
       "\n",
       "                                            features  latitude  longitude  \\\n",
       "0  ['Common Outdoor Space', 'Cats Allowed', 'Dogs...   40.7076   -74.0080   \n",
       "1  ['Dishwasher', 'Hardwood Floors', 'Outdoor Spa...   40.7317   -73.9821   \n",
       "\n",
       "                         manager_id  \\\n",
       "0  c25515933b3ecbb28e56e0c7f030f58c   \n",
       "1  54bf50a3e709c0bd499f9fdca5826147   \n",
       "\n",
       "                                              photos  price street_address  \\\n",
       "0  ['https://photos.renthop.com/2/6890979_d2087d7...   2659  2 Gold Street   \n",
       "1  ['https://photos.renthop.com/2/7227168_53e6c29...   5850   252 1st Ave.   \n",
       "\n",
       "  interest_level  num_desc_words  num_photos  \n",
       "0            low              88          12  \n",
       "1            low             147           7  "
      ]
     },
     "execution_count": 1,
     "metadata": {},
     "output_type": "execute_result"
    }
   ],
   "source": [
    "import pandas as pd\n",
    "import matplotlib.pyplot as plt\n",
    "df = pd.read_csv(r\"C:\\Users\\nithi\\Downloads\\200-ML-1\\week-3\\graded_lab-1\\rent\\rent_11.csv\")\n",
    "print(df.shape) # print rows, columns\n",
    "df.head(2)       # dump first 2 rows"
   ]
  },
  {
   "cell_type": "code",
   "execution_count": 2,
   "metadata": {},
   "outputs": [
    {
     "data": {
      "text/html": [
       "<div>\n",
       "<style scoped>\n",
       "    .dataframe tbody tr th:only-of-type {\n",
       "        vertical-align: middle;\n",
       "    }\n",
       "\n",
       "    .dataframe tbody tr th {\n",
       "        vertical-align: top;\n",
       "    }\n",
       "\n",
       "    .dataframe thead th {\n",
       "        text-align: right;\n",
       "    }\n",
       "</style>\n",
       "<table border=\"1\" class=\"dataframe\">\n",
       "  <thead>\n",
       "    <tr style=\"text-align: right;\">\n",
       "      <th></th>\n",
       "      <th>0</th>\n",
       "      <th>1</th>\n",
       "    </tr>\n",
       "  </thead>\n",
       "  <tbody>\n",
       "    <tr>\n",
       "      <th>bathrooms</th>\n",
       "      <td>1.0</td>\n",
       "      <td>1.0</td>\n",
       "    </tr>\n",
       "    <tr>\n",
       "      <th>bedrooms</th>\n",
       "      <td>0</td>\n",
       "      <td>4</td>\n",
       "    </tr>\n",
       "    <tr>\n",
       "      <th>building_id</th>\n",
       "      <td>c94301249b8c09429d329864d58e5b82</td>\n",
       "      <td>1edde1c89233fb1b1a38c53e992b0756</td>\n",
       "    </tr>\n",
       "    <tr>\n",
       "      <th>created</th>\n",
       "      <td>2016-04-18 11:44:15</td>\n",
       "      <td>2016-06-28 06:22:08</td>\n",
       "    </tr>\n",
       "    <tr>\n",
       "      <th>description</th>\n",
       "      <td>Amazing, bright and spacious studio/convertibl...</td>\n",
       "      <td>!!!!!!!!AVAILABLE NOW!!!!!!ALL UTILITIES INCLU...</td>\n",
       "    </tr>\n",
       "    <tr>\n",
       "      <th>display_address</th>\n",
       "      <td>Gold Street</td>\n",
       "      <td>1st Ave.</td>\n",
       "    </tr>\n",
       "    <tr>\n",
       "      <th>features</th>\n",
       "      <td>['Common Outdoor Space', 'Cats Allowed', 'Dogs...</td>\n",
       "      <td>['Dishwasher', 'Hardwood Floors', 'Outdoor Spa...</td>\n",
       "    </tr>\n",
       "    <tr>\n",
       "      <th>latitude</th>\n",
       "      <td>40.7076</td>\n",
       "      <td>40.7317</td>\n",
       "    </tr>\n",
       "    <tr>\n",
       "      <th>longitude</th>\n",
       "      <td>-74.008</td>\n",
       "      <td>-73.9821</td>\n",
       "    </tr>\n",
       "    <tr>\n",
       "      <th>manager_id</th>\n",
       "      <td>c25515933b3ecbb28e56e0c7f030f58c</td>\n",
       "      <td>54bf50a3e709c0bd499f9fdca5826147</td>\n",
       "    </tr>\n",
       "    <tr>\n",
       "      <th>photos</th>\n",
       "      <td>['https://photos.renthop.com/2/6890979_d2087d7...</td>\n",
       "      <td>['https://photos.renthop.com/2/7227168_53e6c29...</td>\n",
       "    </tr>\n",
       "    <tr>\n",
       "      <th>price</th>\n",
       "      <td>2659</td>\n",
       "      <td>5850</td>\n",
       "    </tr>\n",
       "    <tr>\n",
       "      <th>street_address</th>\n",
       "      <td>2 Gold Street</td>\n",
       "      <td>252 1st Ave.</td>\n",
       "    </tr>\n",
       "    <tr>\n",
       "      <th>interest_level</th>\n",
       "      <td>low</td>\n",
       "      <td>low</td>\n",
       "    </tr>\n",
       "    <tr>\n",
       "      <th>num_desc_words</th>\n",
       "      <td>88</td>\n",
       "      <td>147</td>\n",
       "    </tr>\n",
       "    <tr>\n",
       "      <th>num_photos</th>\n",
       "      <td>12</td>\n",
       "      <td>7</td>\n",
       "    </tr>\n",
       "  </tbody>\n",
       "</table>\n",
       "</div>"
      ],
      "text/plain": [
       "                                                                 0  \\\n",
       "bathrooms                                                      1.0   \n",
       "bedrooms                                                         0   \n",
       "building_id                       c94301249b8c09429d329864d58e5b82   \n",
       "created                                        2016-04-18 11:44:15   \n",
       "description      Amazing, bright and spacious studio/convertibl...   \n",
       "display_address                                        Gold Street   \n",
       "features         ['Common Outdoor Space', 'Cats Allowed', 'Dogs...   \n",
       "latitude                                                   40.7076   \n",
       "longitude                                                  -74.008   \n",
       "manager_id                        c25515933b3ecbb28e56e0c7f030f58c   \n",
       "photos           ['https://photos.renthop.com/2/6890979_d2087d7...   \n",
       "price                                                         2659   \n",
       "street_address                                       2 Gold Street   \n",
       "interest_level                                                 low   \n",
       "num_desc_words                                                  88   \n",
       "num_photos                                                      12   \n",
       "\n",
       "                                                                 1  \n",
       "bathrooms                                                      1.0  \n",
       "bedrooms                                                         4  \n",
       "building_id                       1edde1c89233fb1b1a38c53e992b0756  \n",
       "created                                        2016-06-28 06:22:08  \n",
       "description      !!!!!!!!AVAILABLE NOW!!!!!!ALL UTILITIES INCLU...  \n",
       "display_address                                           1st Ave.  \n",
       "features         ['Dishwasher', 'Hardwood Floors', 'Outdoor Spa...  \n",
       "latitude                                                   40.7317  \n",
       "longitude                                                 -73.9821  \n",
       "manager_id                        54bf50a3e709c0bd499f9fdca5826147  \n",
       "photos           ['https://photos.renthop.com/2/7227168_53e6c29...  \n",
       "price                                                         5850  \n",
       "street_address                                        252 1st Ave.  \n",
       "interest_level                                                 low  \n",
       "num_desc_words                                                 147  \n",
       "num_photos                                                       7  "
      ]
     },
     "execution_count": 2,
     "metadata": {},
     "output_type": "execute_result"
    }
   ],
   "source": [
    "df.head(2).T\n"
   ]
  },
  {
   "cell_type": "code",
   "execution_count": 3,
   "metadata": {},
   "outputs": [
    {
     "name": "stdout",
     "output_type": "stream",
     "text": [
      "<class 'pandas.core.frame.DataFrame'>\n",
      "RangeIndex: 20000 entries, 0 to 19999\n",
      "Data columns (total 16 columns):\n",
      " #   Column           Non-Null Count  Dtype  \n",
      "---  ------           --------------  -----  \n",
      " 0   bathrooms        20000 non-null  float64\n",
      " 1   bedrooms         20000 non-null  int64  \n",
      " 2   building_id      20000 non-null  object \n",
      " 3   created          20000 non-null  object \n",
      " 4   description      19383 non-null  object \n",
      " 5   display_address  19949 non-null  object \n",
      " 6   features         20000 non-null  object \n",
      " 7   latitude         20000 non-null  float64\n",
      " 8   longitude        20000 non-null  float64\n",
      " 9   manager_id       20000 non-null  object \n",
      " 10  photos           20000 non-null  object \n",
      " 11  price            20000 non-null  int64  \n",
      " 12  street_address   19998 non-null  object \n",
      " 13  interest_level   20000 non-null  object \n",
      " 14  num_desc_words   20000 non-null  int64  \n",
      " 15  num_photos       20000 non-null  int64  \n",
      "dtypes: float64(3), int64(4), object(9)\n",
      "memory usage: 2.4+ MB\n"
     ]
    }
   ],
   "source": [
    "df.info()\n"
   ]
  },
  {
   "cell_type": "code",
   "execution_count": 4,
   "metadata": {},
   "outputs": [
    {
     "data": {
      "text/html": [
       "<div>\n",
       "<style scoped>\n",
       "    .dataframe tbody tr th:only-of-type {\n",
       "        vertical-align: middle;\n",
       "    }\n",
       "\n",
       "    .dataframe tbody tr th {\n",
       "        vertical-align: top;\n",
       "    }\n",
       "\n",
       "    .dataframe thead th {\n",
       "        text-align: right;\n",
       "    }\n",
       "</style>\n",
       "<table border=\"1\" class=\"dataframe\">\n",
       "  <thead>\n",
       "    <tr style=\"text-align: right;\">\n",
       "      <th></th>\n",
       "      <th>bathrooms</th>\n",
       "      <th>bedrooms</th>\n",
       "      <th>longitude</th>\n",
       "      <th>latitude</th>\n",
       "      <th>price</th>\n",
       "      <th>num_desc_words</th>\n",
       "      <th>num_photos</th>\n",
       "    </tr>\n",
       "  </thead>\n",
       "  <tbody>\n",
       "    <tr>\n",
       "      <th>0</th>\n",
       "      <td>1.0</td>\n",
       "      <td>0</td>\n",
       "      <td>-74.0080</td>\n",
       "      <td>40.7076</td>\n",
       "      <td>2659</td>\n",
       "      <td>88</td>\n",
       "      <td>12</td>\n",
       "    </tr>\n",
       "    <tr>\n",
       "      <th>1</th>\n",
       "      <td>1.0</td>\n",
       "      <td>4</td>\n",
       "      <td>-73.9821</td>\n",
       "      <td>40.7317</td>\n",
       "      <td>5850</td>\n",
       "      <td>147</td>\n",
       "      <td>7</td>\n",
       "    </tr>\n",
       "  </tbody>\n",
       "</table>\n",
       "</div>"
      ],
      "text/plain": [
       "   bathrooms  bedrooms  longitude  latitude  price  num_desc_words  num_photos\n",
       "0        1.0         0   -74.0080   40.7076   2659              88          12\n",
       "1        1.0         4   -73.9821   40.7317   5850             147           7"
      ]
     },
     "execution_count": 4,
     "metadata": {},
     "output_type": "execute_result"
    }
   ],
   "source": [
    "df_num = df[['bathrooms', 'bedrooms', 'longitude', 'latitude', 'price','num_desc_words','num_photos']]\n",
    "df_num.head(2)"
   ]
  },
  {
   "cell_type": "code",
   "execution_count": 5,
   "metadata": {},
   "outputs": [
    {
     "name": "stdout",
     "output_type": "stream",
     "text": [
      "bathrooms         False\n",
      "bedrooms          False\n",
      "longitude         False\n",
      "latitude          False\n",
      "price             False\n",
      "num_desc_words    False\n",
      "num_photos        False\n",
      "dtype: bool\n"
     ]
    }
   ],
   "source": [
    "print(df_num.isnull().any())\n"
   ]
  },
  {
   "cell_type": "code",
   "execution_count": 6,
   "metadata": {},
   "outputs": [],
   "source": [
    "X_train = df_num.drop('price', axis=1)\n",
    "y_train = df_num['price']"
   ]
  },
  {
   "cell_type": "code",
   "execution_count": 7,
   "metadata": {},
   "outputs": [],
   "source": [
    "from sklearn.ensemble import RandomForestRegressor\n",
    "rf = RandomForestRegressor(n_estimators=100,n_jobs=-1)  "
   ]
  },
  {
   "cell_type": "code",
   "execution_count": 8,
   "metadata": {},
   "outputs": [
    {
     "data": {
      "text/html": [
       "<style>#sk-container-id-1 {\n",
       "  /* Definition of color scheme common for light and dark mode */\n",
       "  --sklearn-color-text: black;\n",
       "  --sklearn-color-line: gray;\n",
       "  /* Definition of color scheme for unfitted estimators */\n",
       "  --sklearn-color-unfitted-level-0: #fff5e6;\n",
       "  --sklearn-color-unfitted-level-1: #f6e4d2;\n",
       "  --sklearn-color-unfitted-level-2: #ffe0b3;\n",
       "  --sklearn-color-unfitted-level-3: chocolate;\n",
       "  /* Definition of color scheme for fitted estimators */\n",
       "  --sklearn-color-fitted-level-0: #f0f8ff;\n",
       "  --sklearn-color-fitted-level-1: #d4ebff;\n",
       "  --sklearn-color-fitted-level-2: #b3dbfd;\n",
       "  --sklearn-color-fitted-level-3: cornflowerblue;\n",
       "\n",
       "  /* Specific color for light theme */\n",
       "  --sklearn-color-text-on-default-background: var(--sg-text-color, var(--theme-code-foreground, var(--jp-content-font-color1, black)));\n",
       "  --sklearn-color-background: var(--sg-background-color, var(--theme-background, var(--jp-layout-color0, white)));\n",
       "  --sklearn-color-border-box: var(--sg-text-color, var(--theme-code-foreground, var(--jp-content-font-color1, black)));\n",
       "  --sklearn-color-icon: #696969;\n",
       "\n",
       "  @media (prefers-color-scheme: dark) {\n",
       "    /* Redefinition of color scheme for dark theme */\n",
       "    --sklearn-color-text-on-default-background: var(--sg-text-color, var(--theme-code-foreground, var(--jp-content-font-color1, white)));\n",
       "    --sklearn-color-background: var(--sg-background-color, var(--theme-background, var(--jp-layout-color0, #111)));\n",
       "    --sklearn-color-border-box: var(--sg-text-color, var(--theme-code-foreground, var(--jp-content-font-color1, white)));\n",
       "    --sklearn-color-icon: #878787;\n",
       "  }\n",
       "}\n",
       "\n",
       "#sk-container-id-1 {\n",
       "  color: var(--sklearn-color-text);\n",
       "}\n",
       "\n",
       "#sk-container-id-1 pre {\n",
       "  padding: 0;\n",
       "}\n",
       "\n",
       "#sk-container-id-1 input.sk-hidden--visually {\n",
       "  border: 0;\n",
       "  clip: rect(1px 1px 1px 1px);\n",
       "  clip: rect(1px, 1px, 1px, 1px);\n",
       "  height: 1px;\n",
       "  margin: -1px;\n",
       "  overflow: hidden;\n",
       "  padding: 0;\n",
       "  position: absolute;\n",
       "  width: 1px;\n",
       "}\n",
       "\n",
       "#sk-container-id-1 div.sk-dashed-wrapped {\n",
       "  border: 1px dashed var(--sklearn-color-line);\n",
       "  margin: 0 0.4em 0.5em 0.4em;\n",
       "  box-sizing: border-box;\n",
       "  padding-bottom: 0.4em;\n",
       "  background-color: var(--sklearn-color-background);\n",
       "}\n",
       "\n",
       "#sk-container-id-1 div.sk-container {\n",
       "  /* jupyter's `normalize.less` sets `[hidden] { display: none; }`\n",
       "     but bootstrap.min.css set `[hidden] { display: none !important; }`\n",
       "     so we also need the `!important` here to be able to override the\n",
       "     default hidden behavior on the sphinx rendered scikit-learn.org.\n",
       "     See: https://github.com/scikit-learn/scikit-learn/issues/21755 */\n",
       "  display: inline-block !important;\n",
       "  position: relative;\n",
       "}\n",
       "\n",
       "#sk-container-id-1 div.sk-text-repr-fallback {\n",
       "  display: none;\n",
       "}\n",
       "\n",
       "div.sk-parallel-item,\n",
       "div.sk-serial,\n",
       "div.sk-item {\n",
       "  /* draw centered vertical line to link estimators */\n",
       "  background-image: linear-gradient(var(--sklearn-color-text-on-default-background), var(--sklearn-color-text-on-default-background));\n",
       "  background-size: 2px 100%;\n",
       "  background-repeat: no-repeat;\n",
       "  background-position: center center;\n",
       "}\n",
       "\n",
       "/* Parallel-specific style estimator block */\n",
       "\n",
       "#sk-container-id-1 div.sk-parallel-item::after {\n",
       "  content: \"\";\n",
       "  width: 100%;\n",
       "  border-bottom: 2px solid var(--sklearn-color-text-on-default-background);\n",
       "  flex-grow: 1;\n",
       "}\n",
       "\n",
       "#sk-container-id-1 div.sk-parallel {\n",
       "  display: flex;\n",
       "  align-items: stretch;\n",
       "  justify-content: center;\n",
       "  background-color: var(--sklearn-color-background);\n",
       "  position: relative;\n",
       "}\n",
       "\n",
       "#sk-container-id-1 div.sk-parallel-item {\n",
       "  display: flex;\n",
       "  flex-direction: column;\n",
       "}\n",
       "\n",
       "#sk-container-id-1 div.sk-parallel-item:first-child::after {\n",
       "  align-self: flex-end;\n",
       "  width: 50%;\n",
       "}\n",
       "\n",
       "#sk-container-id-1 div.sk-parallel-item:last-child::after {\n",
       "  align-self: flex-start;\n",
       "  width: 50%;\n",
       "}\n",
       "\n",
       "#sk-container-id-1 div.sk-parallel-item:only-child::after {\n",
       "  width: 0;\n",
       "}\n",
       "\n",
       "/* Serial-specific style estimator block */\n",
       "\n",
       "#sk-container-id-1 div.sk-serial {\n",
       "  display: flex;\n",
       "  flex-direction: column;\n",
       "  align-items: center;\n",
       "  background-color: var(--sklearn-color-background);\n",
       "  padding-right: 1em;\n",
       "  padding-left: 1em;\n",
       "}\n",
       "\n",
       "\n",
       "/* Toggleable style: style used for estimator/Pipeline/ColumnTransformer box that is\n",
       "clickable and can be expanded/collapsed.\n",
       "- Pipeline and ColumnTransformer use this feature and define the default style\n",
       "- Estimators will overwrite some part of the style using the `sk-estimator` class\n",
       "*/\n",
       "\n",
       "/* Pipeline and ColumnTransformer style (default) */\n",
       "\n",
       "#sk-container-id-1 div.sk-toggleable {\n",
       "  /* Default theme specific background. It is overwritten whether we have a\n",
       "  specific estimator or a Pipeline/ColumnTransformer */\n",
       "  background-color: var(--sklearn-color-background);\n",
       "}\n",
       "\n",
       "/* Toggleable label */\n",
       "#sk-container-id-1 label.sk-toggleable__label {\n",
       "  cursor: pointer;\n",
       "  display: block;\n",
       "  width: 100%;\n",
       "  margin-bottom: 0;\n",
       "  padding: 0.5em;\n",
       "  box-sizing: border-box;\n",
       "  text-align: center;\n",
       "}\n",
       "\n",
       "#sk-container-id-1 label.sk-toggleable__label-arrow:before {\n",
       "  /* Arrow on the left of the label */\n",
       "  content: \"▸\";\n",
       "  float: left;\n",
       "  margin-right: 0.25em;\n",
       "  color: var(--sklearn-color-icon);\n",
       "}\n",
       "\n",
       "#sk-container-id-1 label.sk-toggleable__label-arrow:hover:before {\n",
       "  color: var(--sklearn-color-text);\n",
       "}\n",
       "\n",
       "/* Toggleable content - dropdown */\n",
       "\n",
       "#sk-container-id-1 div.sk-toggleable__content {\n",
       "  max-height: 0;\n",
       "  max-width: 0;\n",
       "  overflow: hidden;\n",
       "  text-align: left;\n",
       "  /* unfitted */\n",
       "  background-color: var(--sklearn-color-unfitted-level-0);\n",
       "}\n",
       "\n",
       "#sk-container-id-1 div.sk-toggleable__content.fitted {\n",
       "  /* fitted */\n",
       "  background-color: var(--sklearn-color-fitted-level-0);\n",
       "}\n",
       "\n",
       "#sk-container-id-1 div.sk-toggleable__content pre {\n",
       "  margin: 0.2em;\n",
       "  border-radius: 0.25em;\n",
       "  color: var(--sklearn-color-text);\n",
       "  /* unfitted */\n",
       "  background-color: var(--sklearn-color-unfitted-level-0);\n",
       "}\n",
       "\n",
       "#sk-container-id-1 div.sk-toggleable__content.fitted pre {\n",
       "  /* unfitted */\n",
       "  background-color: var(--sklearn-color-fitted-level-0);\n",
       "}\n",
       "\n",
       "#sk-container-id-1 input.sk-toggleable__control:checked~div.sk-toggleable__content {\n",
       "  /* Expand drop-down */\n",
       "  max-height: 200px;\n",
       "  max-width: 100%;\n",
       "  overflow: auto;\n",
       "}\n",
       "\n",
       "#sk-container-id-1 input.sk-toggleable__control:checked~label.sk-toggleable__label-arrow:before {\n",
       "  content: \"▾\";\n",
       "}\n",
       "\n",
       "/* Pipeline/ColumnTransformer-specific style */\n",
       "\n",
       "#sk-container-id-1 div.sk-label input.sk-toggleable__control:checked~label.sk-toggleable__label {\n",
       "  color: var(--sklearn-color-text);\n",
       "  background-color: var(--sklearn-color-unfitted-level-2);\n",
       "}\n",
       "\n",
       "#sk-container-id-1 div.sk-label.fitted input.sk-toggleable__control:checked~label.sk-toggleable__label {\n",
       "  background-color: var(--sklearn-color-fitted-level-2);\n",
       "}\n",
       "\n",
       "/* Estimator-specific style */\n",
       "\n",
       "/* Colorize estimator box */\n",
       "#sk-container-id-1 div.sk-estimator input.sk-toggleable__control:checked~label.sk-toggleable__label {\n",
       "  /* unfitted */\n",
       "  background-color: var(--sklearn-color-unfitted-level-2);\n",
       "}\n",
       "\n",
       "#sk-container-id-1 div.sk-estimator.fitted input.sk-toggleable__control:checked~label.sk-toggleable__label {\n",
       "  /* fitted */\n",
       "  background-color: var(--sklearn-color-fitted-level-2);\n",
       "}\n",
       "\n",
       "#sk-container-id-1 div.sk-label label.sk-toggleable__label,\n",
       "#sk-container-id-1 div.sk-label label {\n",
       "  /* The background is the default theme color */\n",
       "  color: var(--sklearn-color-text-on-default-background);\n",
       "}\n",
       "\n",
       "/* On hover, darken the color of the background */\n",
       "#sk-container-id-1 div.sk-label:hover label.sk-toggleable__label {\n",
       "  color: var(--sklearn-color-text);\n",
       "  background-color: var(--sklearn-color-unfitted-level-2);\n",
       "}\n",
       "\n",
       "/* Label box, darken color on hover, fitted */\n",
       "#sk-container-id-1 div.sk-label.fitted:hover label.sk-toggleable__label.fitted {\n",
       "  color: var(--sklearn-color-text);\n",
       "  background-color: var(--sklearn-color-fitted-level-2);\n",
       "}\n",
       "\n",
       "/* Estimator label */\n",
       "\n",
       "#sk-container-id-1 div.sk-label label {\n",
       "  font-family: monospace;\n",
       "  font-weight: bold;\n",
       "  display: inline-block;\n",
       "  line-height: 1.2em;\n",
       "}\n",
       "\n",
       "#sk-container-id-1 div.sk-label-container {\n",
       "  text-align: center;\n",
       "}\n",
       "\n",
       "/* Estimator-specific */\n",
       "#sk-container-id-1 div.sk-estimator {\n",
       "  font-family: monospace;\n",
       "  border: 1px dotted var(--sklearn-color-border-box);\n",
       "  border-radius: 0.25em;\n",
       "  box-sizing: border-box;\n",
       "  margin-bottom: 0.5em;\n",
       "  /* unfitted */\n",
       "  background-color: var(--sklearn-color-unfitted-level-0);\n",
       "}\n",
       "\n",
       "#sk-container-id-1 div.sk-estimator.fitted {\n",
       "  /* fitted */\n",
       "  background-color: var(--sklearn-color-fitted-level-0);\n",
       "}\n",
       "\n",
       "/* on hover */\n",
       "#sk-container-id-1 div.sk-estimator:hover {\n",
       "  /* unfitted */\n",
       "  background-color: var(--sklearn-color-unfitted-level-2);\n",
       "}\n",
       "\n",
       "#sk-container-id-1 div.sk-estimator.fitted:hover {\n",
       "  /* fitted */\n",
       "  background-color: var(--sklearn-color-fitted-level-2);\n",
       "}\n",
       "\n",
       "/* Specification for estimator info (e.g. \"i\" and \"?\") */\n",
       "\n",
       "/* Common style for \"i\" and \"?\" */\n",
       "\n",
       ".sk-estimator-doc-link,\n",
       "a:link.sk-estimator-doc-link,\n",
       "a:visited.sk-estimator-doc-link {\n",
       "  float: right;\n",
       "  font-size: smaller;\n",
       "  line-height: 1em;\n",
       "  font-family: monospace;\n",
       "  background-color: var(--sklearn-color-background);\n",
       "  border-radius: 1em;\n",
       "  height: 1em;\n",
       "  width: 1em;\n",
       "  text-decoration: none !important;\n",
       "  margin-left: 1ex;\n",
       "  /* unfitted */\n",
       "  border: var(--sklearn-color-unfitted-level-1) 1pt solid;\n",
       "  color: var(--sklearn-color-unfitted-level-1);\n",
       "}\n",
       "\n",
       ".sk-estimator-doc-link.fitted,\n",
       "a:link.sk-estimator-doc-link.fitted,\n",
       "a:visited.sk-estimator-doc-link.fitted {\n",
       "  /* fitted */\n",
       "  border: var(--sklearn-color-fitted-level-1) 1pt solid;\n",
       "  color: var(--sklearn-color-fitted-level-1);\n",
       "}\n",
       "\n",
       "/* On hover */\n",
       "div.sk-estimator:hover .sk-estimator-doc-link:hover,\n",
       ".sk-estimator-doc-link:hover,\n",
       "div.sk-label-container:hover .sk-estimator-doc-link:hover,\n",
       ".sk-estimator-doc-link:hover {\n",
       "  /* unfitted */\n",
       "  background-color: var(--sklearn-color-unfitted-level-3);\n",
       "  color: var(--sklearn-color-background);\n",
       "  text-decoration: none;\n",
       "}\n",
       "\n",
       "div.sk-estimator.fitted:hover .sk-estimator-doc-link.fitted:hover,\n",
       ".sk-estimator-doc-link.fitted:hover,\n",
       "div.sk-label-container:hover .sk-estimator-doc-link.fitted:hover,\n",
       ".sk-estimator-doc-link.fitted:hover {\n",
       "  /* fitted */\n",
       "  background-color: var(--sklearn-color-fitted-level-3);\n",
       "  color: var(--sklearn-color-background);\n",
       "  text-decoration: none;\n",
       "}\n",
       "\n",
       "/* Span, style for the box shown on hovering the info icon */\n",
       ".sk-estimator-doc-link span {\n",
       "  display: none;\n",
       "  z-index: 9999;\n",
       "  position: relative;\n",
       "  font-weight: normal;\n",
       "  right: .2ex;\n",
       "  padding: .5ex;\n",
       "  margin: .5ex;\n",
       "  width: min-content;\n",
       "  min-width: 20ex;\n",
       "  max-width: 50ex;\n",
       "  color: var(--sklearn-color-text);\n",
       "  box-shadow: 2pt 2pt 4pt #999;\n",
       "  /* unfitted */\n",
       "  background: var(--sklearn-color-unfitted-level-0);\n",
       "  border: .5pt solid var(--sklearn-color-unfitted-level-3);\n",
       "}\n",
       "\n",
       ".sk-estimator-doc-link.fitted span {\n",
       "  /* fitted */\n",
       "  background: var(--sklearn-color-fitted-level-0);\n",
       "  border: var(--sklearn-color-fitted-level-3);\n",
       "}\n",
       "\n",
       ".sk-estimator-doc-link:hover span {\n",
       "  display: block;\n",
       "}\n",
       "\n",
       "/* \"?\"-specific style due to the `<a>` HTML tag */\n",
       "\n",
       "#sk-container-id-1 a.estimator_doc_link {\n",
       "  float: right;\n",
       "  font-size: 1rem;\n",
       "  line-height: 1em;\n",
       "  font-family: monospace;\n",
       "  background-color: var(--sklearn-color-background);\n",
       "  border-radius: 1rem;\n",
       "  height: 1rem;\n",
       "  width: 1rem;\n",
       "  text-decoration: none;\n",
       "  /* unfitted */\n",
       "  color: var(--sklearn-color-unfitted-level-1);\n",
       "  border: var(--sklearn-color-unfitted-level-1) 1pt solid;\n",
       "}\n",
       "\n",
       "#sk-container-id-1 a.estimator_doc_link.fitted {\n",
       "  /* fitted */\n",
       "  border: var(--sklearn-color-fitted-level-1) 1pt solid;\n",
       "  color: var(--sklearn-color-fitted-level-1);\n",
       "}\n",
       "\n",
       "/* On hover */\n",
       "#sk-container-id-1 a.estimator_doc_link:hover {\n",
       "  /* unfitted */\n",
       "  background-color: var(--sklearn-color-unfitted-level-3);\n",
       "  color: var(--sklearn-color-background);\n",
       "  text-decoration: none;\n",
       "}\n",
       "\n",
       "#sk-container-id-1 a.estimator_doc_link.fitted:hover {\n",
       "  /* fitted */\n",
       "  background-color: var(--sklearn-color-fitted-level-3);\n",
       "}\n",
       "</style><div id=\"sk-container-id-1\" class=\"sk-top-container\"><div class=\"sk-text-repr-fallback\"><pre>RandomForestRegressor(n_jobs=-1)</pre><b>In a Jupyter environment, please rerun this cell to show the HTML representation or trust the notebook. <br />On GitHub, the HTML representation is unable to render, please try loading this page with nbviewer.org.</b></div><div class=\"sk-container\" hidden><div class=\"sk-item\"><div class=\"sk-estimator fitted sk-toggleable\"><input class=\"sk-toggleable__control sk-hidden--visually\" id=\"sk-estimator-id-1\" type=\"checkbox\" checked><label for=\"sk-estimator-id-1\" class=\"sk-toggleable__label fitted sk-toggleable__label-arrow fitted\">&nbsp;&nbsp;RandomForestRegressor<a class=\"sk-estimator-doc-link fitted\" rel=\"noreferrer\" target=\"_blank\" href=\"https://scikit-learn.org/1.4/modules/generated/sklearn.ensemble.RandomForestRegressor.html\">?<span>Documentation for RandomForestRegressor</span></a><span class=\"sk-estimator-doc-link fitted\">i<span>Fitted</span></span></label><div class=\"sk-toggleable__content fitted\"><pre>RandomForestRegressor(n_jobs=-1)</pre></div> </div></div></div></div>"
      ],
      "text/plain": [
       "RandomForestRegressor(n_jobs=-1)"
      ]
     },
     "execution_count": 8,
     "metadata": {},
     "output_type": "execute_result"
    }
   ],
   "source": [
    "rf.fit(X_train, y_train)\n"
   ]
  },
  {
   "cell_type": "code",
   "execution_count": 9,
   "metadata": {},
   "outputs": [
    {
     "name": "stdout",
     "output_type": "stream",
     "text": [
      "0.9091\n"
     ]
    }
   ],
   "source": [
    "r2 = rf.score(X_train, y_train)\n",
    "print( f\"{r2:.4f}\" )"
   ]
  },
  {
   "cell_type": "markdown",
   "metadata": {},
   "source": [
    "checking modal generality\n",
    "\n",
    "- RFs, is that they can efficiently estimate the prediction error while training the model, completely avoiding the need for separate validation sets.\n",
    "- The error score is called the out-of-bag score and  is the typical metric computed.\n",
    "- The out-of-bag (OOB) score looks at the prediction accuracy for a particular record using only those trees that did not train on that record.  "
   ]
  },
  {
   "cell_type": "code",
   "execution_count": 10,
   "metadata": {},
   "outputs": [],
   "source": [
    "rf = RandomForestRegressor(n_estimators=100,n_jobs=-1,oob_score=True)"
   ]
  },
  {
   "cell_type": "code",
   "execution_count": 11,
   "metadata": {},
   "outputs": [
    {
     "name": "stdout",
     "output_type": "stream",
     "text": [
      "OOB score 0.3801\n"
     ]
    }
   ],
   "source": [
    "rf.fit(X_train, y_train)\n",
    "noisy_oob_r2 = rf.oob_score_\n",
    "print(f\"OOB score {noisy_oob_r2:.4f}\")"
   ]
  },
  {
   "cell_type": "code",
   "execution_count": 12,
   "metadata": {},
   "outputs": [
    {
     "name": "stdout",
     "output_type": "stream",
     "text": [
      "Validation MAE trials: $848 $831 $844 $840 $848 $858 $799\n",
      "Average validation MAE $838\n"
     ]
    }
   ],
   "source": [
    "from sklearn.model_selection import train_test_split\n",
    "from sklearn.metrics import mean_absolute_error\n",
    "import numpy as np\n",
    "\n",
    "X, y = df_num.drop('price', axis=1), df_num['price']\n",
    "\n",
    "errors = []\n",
    "print(f\"Validation MAE trials:\", end='')\n",
    "for i in range(7):\n",
    "    X_train, X_test, y_train, y_test = \\\n",
    "        train_test_split(X, y, test_size=0.20)\n",
    "    rf = RandomForestRegressor(n_estimators=100, n_jobs=-1)\n",
    "    rf.fit(X_train, y_train)\n",
    "    y_predicted = rf.predict(X_test)\n",
    "    e = mean_absolute_error(y_test, y_predicted)\n",
    "    print(f\" ${e:.0f}\", end='')\n",
    "    errors.append(e)\n",
    "print()\n",
    "noisy_avg_mae = np.mean(errors)\n",
    "print(f\"Average validation MAE ${noisy_avg_mae:.0f}\")"
   ]
  },
  {
   "cell_type": "markdown",
   "metadata": {},
   "source": [
    "evaluating the model is completed"
   ]
  },
  {
   "cell_type": "markdown",
   "metadata": {},
   "source": [
    "#### Explanation (5 marks)\n",
    "\n",
    "Please provide an explanation and justification for the code submitted in **Part 1** in the context of the overall objective. "
   ]
  },
  {
   "cell_type": "markdown",
   "metadata": {},
   "source": [
    "### Part 2 - Denoise the data\n",
    "\n",
    "This section should only include the code necessary to **denoise** the data, NOT the code necessary to identify inconsistencies, problems, errors, etc. in the data. \n",
    "\n",
    "#### Code (25 marks)"
   ]
  },
  {
   "cell_type": "code",
   "execution_count": 13,
   "metadata": {},
   "outputs": [
    {
     "data": {
      "text/html": [
       "<div>\n",
       "<style scoped>\n",
       "    .dataframe tbody tr th:only-of-type {\n",
       "        vertical-align: middle;\n",
       "    }\n",
       "\n",
       "    .dataframe tbody tr th {\n",
       "        vertical-align: top;\n",
       "    }\n",
       "\n",
       "    .dataframe thead th {\n",
       "        text-align: right;\n",
       "    }\n",
       "</style>\n",
       "<table border=\"1\" class=\"dataframe\">\n",
       "  <thead>\n",
       "    <tr style=\"text-align: right;\">\n",
       "      <th></th>\n",
       "      <th>bathrooms</th>\n",
       "      <th>bedrooms</th>\n",
       "      <th>longitude</th>\n",
       "      <th>latitude</th>\n",
       "      <th>price</th>\n",
       "      <th>num_desc_words</th>\n",
       "      <th>num_photos</th>\n",
       "    </tr>\n",
       "  </thead>\n",
       "  <tbody>\n",
       "    <tr>\n",
       "      <th>count</th>\n",
       "      <td>20000.000000</td>\n",
       "      <td>20000.000000</td>\n",
       "      <td>20000.000000</td>\n",
       "      <td>20000.000000</td>\n",
       "      <td>20000.000000</td>\n",
       "      <td>20000.000000</td>\n",
       "      <td>20000.000000</td>\n",
       "    </tr>\n",
       "    <tr>\n",
       "      <th>mean</th>\n",
       "      <td>1.213250</td>\n",
       "      <td>1.543600</td>\n",
       "      <td>-66.432797</td>\n",
       "      <td>37.510039</td>\n",
       "      <td>3497.492400</td>\n",
       "      <td>87.489600</td>\n",
       "      <td>24555.508150</td>\n",
       "    </tr>\n",
       "    <tr>\n",
       "      <th>std</th>\n",
       "      <td>0.500562</td>\n",
       "      <td>1.112098</td>\n",
       "      <td>39.506637</td>\n",
       "      <td>14.405199</td>\n",
       "      <td>2852.676672</td>\n",
       "      <td>58.845257</td>\n",
       "      <td>154752.138833</td>\n",
       "    </tr>\n",
       "    <tr>\n",
       "      <th>min</th>\n",
       "      <td>0.000000</td>\n",
       "      <td>0.000000</td>\n",
       "      <td>-118.271000</td>\n",
       "      <td>-33.201000</td>\n",
       "      <td>-55000.000000</td>\n",
       "      <td>0.000000</td>\n",
       "      <td>1.000000</td>\n",
       "    </tr>\n",
       "    <tr>\n",
       "      <th>25%</th>\n",
       "      <td>1.000000</td>\n",
       "      <td>1.000000</td>\n",
       "      <td>-73.990900</td>\n",
       "      <td>40.723900</td>\n",
       "      <td>2450.000000</td>\n",
       "      <td>48.000000</td>\n",
       "      <td>4.000000</td>\n",
       "    </tr>\n",
       "    <tr>\n",
       "      <th>50%</th>\n",
       "      <td>1.000000</td>\n",
       "      <td>1.000000</td>\n",
       "      <td>-73.976000</td>\n",
       "      <td>40.748700</td>\n",
       "      <td>3100.000000</td>\n",
       "      <td>81.000000</td>\n",
       "      <td>5.000000</td>\n",
       "    </tr>\n",
       "    <tr>\n",
       "      <th>75%</th>\n",
       "      <td>1.000000</td>\n",
       "      <td>2.000000</td>\n",
       "      <td>-73.952300</td>\n",
       "      <td>40.772800</td>\n",
       "      <td>4050.000000</td>\n",
       "      <td>118.000000</td>\n",
       "      <td>7.000000</td>\n",
       "    </tr>\n",
       "    <tr>\n",
       "      <th>max</th>\n",
       "      <td>7.000000</td>\n",
       "      <td>7.000000</td>\n",
       "      <td>178.387800</td>\n",
       "      <td>44.883500</td>\n",
       "      <td>111111.000000</td>\n",
       "      <td>507.000000</td>\n",
       "      <td>1000000.000000</td>\n",
       "    </tr>\n",
       "  </tbody>\n",
       "</table>\n",
       "</div>"
      ],
      "text/plain": [
       "          bathrooms      bedrooms     longitude      latitude          price  \\\n",
       "count  20000.000000  20000.000000  20000.000000  20000.000000   20000.000000   \n",
       "mean       1.213250      1.543600    -66.432797     37.510039    3497.492400   \n",
       "std        0.500562      1.112098     39.506637     14.405199    2852.676672   \n",
       "min        0.000000      0.000000   -118.271000    -33.201000  -55000.000000   \n",
       "25%        1.000000      1.000000    -73.990900     40.723900    2450.000000   \n",
       "50%        1.000000      1.000000    -73.976000     40.748700    3100.000000   \n",
       "75%        1.000000      2.000000    -73.952300     40.772800    4050.000000   \n",
       "max        7.000000      7.000000    178.387800     44.883500  111111.000000   \n",
       "\n",
       "       num_desc_words      num_photos  \n",
       "count    20000.000000    20000.000000  \n",
       "mean        87.489600    24555.508150  \n",
       "std         58.845257   154752.138833  \n",
       "min          0.000000        1.000000  \n",
       "25%         48.000000        4.000000  \n",
       "50%         81.000000        5.000000  \n",
       "75%        118.000000        7.000000  \n",
       "max        507.000000  1000000.000000  "
      ]
     },
     "execution_count": 13,
     "metadata": {},
     "output_type": "execute_result"
    }
   ],
   "source": [
    "df_num.describe()\n"
   ]
  },
  {
   "cell_type": "code",
   "execution_count": 14,
   "metadata": {},
   "outputs": [
    {
     "name": "stdout",
     "output_type": "stream",
     "text": [
      "19784    111111\n",
      "15313     90000\n",
      "10573     85000\n",
      "4236      80000\n",
      "13628     60000\n",
      "12509     58020\n",
      "16219     48500\n",
      "3410      45000\n",
      "16720     39995\n",
      "6593      30000\n",
      "Name: price, dtype: int64\n"
     ]
    }
   ],
   "source": [
    "print(df_num.price.sort_values(ascending=False).head(10))\n"
   ]
  },
  {
   "cell_type": "code",
   "execution_count": 15,
   "metadata": {},
   "outputs": [
    {
     "name": "stdout",
     "output_type": "stream",
     "text": [
      "bathrooms\n",
      "1.0    15980\n",
      "2.0     3096\n",
      "3.0      323\n",
      "1.5      265\n",
      "0.0      116\n",
      "2.5      110\n",
      "4.0       54\n",
      "3.5       30\n",
      "4.5       10\n",
      "5.0       10\n",
      "5.5        3\n",
      "6.0        2\n",
      "7.0        1\n",
      "Name: count, dtype: int64\n"
     ]
    }
   ],
   "source": [
    "print(df_num.bathrooms.value_counts())\n"
   ]
  },
  {
   "cell_type": "code",
   "execution_count": 16,
   "metadata": {},
   "outputs": [
    {
     "name": "stdout",
     "output_type": "stream",
     "text": [
      "bedrooms\n",
      "1    6337\n",
      "2    5956\n",
      "0    3839\n",
      "3    2972\n",
      "4     790\n",
      "5      90\n",
      "6      15\n",
      "7       1\n",
      "Name: count, dtype: int64\n"
     ]
    }
   ],
   "source": [
    "print(df_num.bedrooms.value_counts())\n"
   ]
  },
  {
   "cell_type": "code",
   "execution_count": 17,
   "metadata": {},
   "outputs": [
    {
     "data": {
      "image/png": "[encoded data removed]",
      "text/plain": [
       "<Figure size 640x480 with 1 Axes>"
      ]
     },
     "metadata": {},
     "output_type": "display_data"
    }
   ],
   "source": [
    "bookcolors = { # our usual book color palette\n",
    "         'crimson': '#a50026', 'red': '#d73027',\n",
    "         'redorange': '#f46d43', 'orange': '#fdae61',\n",
    "         'yellow': '#fee090', 'sky': '#e0f3f8',\n",
    "         'babyblue': '#abd9e9', 'lightblue': '#74add1',\n",
    "         'blue': '#4575b4', 'purple': '#313695'}\n",
    "fig,ax = plt.subplots()\n",
    "ax.set_xlabel('Num Bedrooms')\n",
    "ax.set_ylabel('Num Apts')\n",
    "ax.hist(df_num.bedrooms, color=bookcolors['blue'])\n",
    "plt.show()"
   ]
  },
  {
   "cell_type": "code",
   "execution_count": 18,
   "metadata": {},
   "outputs": [
    {
     "data": {
      "image/png": "[encoded data removed]",
      "text/plain": [
       "<Figure size 640x480 with 1 Axes>"
      ]
     },
     "metadata": {},
     "output_type": "display_data"
    }
   ],
   "source": [
    "bookcolors = { # our usual book color palette\n",
    "         'crimson': '#a50026', 'red': '#d73027',\n",
    "         'redorange': '#f46d43', 'orange': '#fdae61',\n",
    "         'yellow': '#fee090', 'sky': '#e0f3f8',\n",
    "         'babyblue': '#abd9e9', 'lightblue': '#74add1',\n",
    "         'blue': '#4575b4', 'purple': '#313695'}\n",
    "fig,ax = plt.subplots()\n",
    "ax.set_xlabel('Num Bathrooms')\n",
    "ax.set_ylabel('Num Apts')\n",
    "ax.hist(df_num.bathrooms, color=bookcolors['blue'])\n",
    "plt.show()"
   ]
  },
  {
   "cell_type": "code",
   "execution_count": 24,
   "metadata": {},
   "outputs": [
    {
     "name": "stdout",
     "output_type": "stream",
     "text": [
      "There are 5 apartments at location 0,0\n"
     ]
    }
   ],
   "source": [
    "print(f\"There are {len(df[(df.longitude==0.0) & (df.latitude==0.0)])} apartments at location 0,0\")\n",
    "\n",
    "\n"
   ]
  },
  {
   "cell_type": "markdown",
   "metadata": {},
   "source": [
    " the region of New York City containing two apartments over $1,000,000, we see other apartments with the same characteristics but with reasonable prices"
   ]
  },
  {
   "cell_type": "code",
   "execution_count": 20,
   "metadata": {},
   "outputs": [
    {
     "data": {
      "text/html": [
       "<div>\n",
       "<style scoped>\n",
       "    .dataframe tbody tr th:only-of-type {\n",
       "        vertical-align: middle;\n",
       "    }\n",
       "\n",
       "    .dataframe tbody tr th {\n",
       "        vertical-align: top;\n",
       "    }\n",
       "\n",
       "    .dataframe thead th {\n",
       "        text-align: right;\n",
       "    }\n",
       "</style>\n",
       "<table border=\"1\" class=\"dataframe\">\n",
       "  <thead>\n",
       "    <tr style=\"text-align: right;\">\n",
       "      <th></th>\n",
       "      <th>bedrooms</th>\n",
       "      <th>bathrooms</th>\n",
       "      <th>street_address</th>\n",
       "      <th>price</th>\n",
       "    </tr>\n",
       "  </thead>\n",
       "  <tbody>\n",
       "    <tr>\n",
       "      <th>9128</th>\n",
       "      <td>1</td>\n",
       "      <td>1.0</td>\n",
       "      <td>300 West 55th Street</td>\n",
       "      <td>2400</td>\n",
       "    </tr>\n",
       "  </tbody>\n",
       "</table>\n",
       "</div>"
      ],
      "text/plain": [
       "      bedrooms  bathrooms        street_address  price\n",
       "9128         1        1.0  300 West 55th Street   2400"
      ]
     },
     "execution_count": 20,
     "metadata": {},
     "output_type": "execute_result"
    }
   ],
   "source": [
    "df_local = df[(df.latitude>40.764) & (df.latitude<40.7678) &\n",
    "              (df.longitude>=-73.9844) & (df.longitude<=-73.9842) &\n",
    "           (df.bathrooms==1) & (df.bedrooms==1)]\n",
    "df_local[['bedrooms','bathrooms','street_address','price']].sort_values('price')"
   ]
  },
  {
   "cell_type": "code",
   "execution_count": 25,
   "metadata": {},
   "outputs": [],
   "source": [
    "# filter all records (training/testing)\n",
    "df_clean = df_num[(df_num.price>1_000) & (df_num.price<10_000)]"
   ]
  },
  {
   "cell_type": "code",
   "execution_count": 26,
   "metadata": {},
   "outputs": [
    {
     "data": {
      "image/png": "[encoded data removed]",
      "text/plain": [
       "<Figure size 640x480 with 1 Axes>"
      ]
     },
     "metadata": {},
     "output_type": "display_data"
    }
   ],
   "source": [
    "fig,ax = plt.subplots()\n",
    "ax.set_xlabel('Clipped Price')\n",
    "ax.set_ylabel('Num Apts at that price')\n",
    "ax.hist(df_clean.price, bins=45, color=bookcolors['blue'])\n",
    "plt.show()"
   ]
  },
  {
   "cell_type": "code",
   "execution_count": 27,
   "metadata": {},
   "outputs": [
    {
     "data": {
      "image/png": "[encoded data removed]",
      "text/plain": [
       "<Figure size 640x480 with 1 Axes>"
      ]
     },
     "metadata": {},
     "output_type": "display_data"
    }
   ],
   "source": [
    "upper, lower = np.percentile(df.price, [1,99]) # find middle 98% of prices\n",
    "clipped = np.clip(df.price, upper, lower)\n",
    "fig,ax = plt.subplots()\n",
    "ax.set_xlabel('Prices in middle 98% range')\n",
    "ax.set_ylabel('Num Apts at that price')\n",
    "ax.hist(clipped, bins=45, color=bookcolors['blue'])\n",
    "plt.show()"
   ]
  },
  {
   "cell_type": "markdown",
   "metadata": {},
   "source": [
    "#deleting records outside newyork city \n",
    "- handling missing value, replacing longitude and lattitude using mean value"
   ]
  },
  {
   "cell_type": "code",
   "execution_count": 28,
   "metadata": {},
   "outputs": [
    {
     "name": "stdout",
     "output_type": "stream",
     "text": [
      "4\n"
     ]
    }
   ],
   "source": [
    "df_missing = df_clean[(df_clean.longitude==0) | (df_clean.latitude==0)]\n",
    "print(len(df_missing))"
   ]
  },
  {
   "cell_type": "code",
   "execution_count": 29,
   "metadata": {},
   "outputs": [],
   "source": [
    "df_clean = df_clean[(df_clean.longitude!=0) | (df_clean.latitude!=0)]\n"
   ]
  },
  {
   "cell_type": "code",
   "execution_count": 30,
   "metadata": {},
   "outputs": [],
   "source": [
    "df_clean = df_clean[(df_clean['latitude']>40.55) &\n",
    "                    (df_clean['latitude']<40.94) &\n",
    "                    (df_clean['longitude']>-74.1) &\n",
    "                    (df_clean['longitude']<-73.67)]"
   ]
  },
  {
   "cell_type": "markdown",
   "metadata": {},
   "source": [
    "### Part 3 - Create and evaluate a final model\n",
    "\n",
    "#### Code (15 marks)"
   ]
  },
  {
   "cell_type": "code",
   "execution_count": 31,
   "metadata": {},
   "outputs": [
    {
     "name": "stdout",
     "output_type": "stream",
     "text": [
      "Validation OOB score 0.7940\n"
     ]
    }
   ],
   "source": [
    "X, y = df_clean.drop('price', axis=1), df_clean['price']\n",
    "rf = RandomForestRegressor(n_estimators=100,\n",
    "                           n_jobs=-1,        # parallelize\n",
    "                           oob_score=True)   # get error estimate\n",
    "rf.fit(X, y)\n",
    "clean_oob_r2 = rf.oob_score_\n",
    "print(f\"Validation OOB score {clean_oob_r2:.4f}\")"
   ]
  },
  {
   "cell_type": "markdown",
   "metadata": {},
   "source": [
    "MAE calculation for df_clean dataset"
   ]
  },
  {
   "cell_type": "code",
   "execution_count": 32,
   "metadata": {},
   "outputs": [
    {
     "name": "stdout",
     "output_type": "stream",
     "text": [
      "Validation MAE trials: $395 $398 $406 $420 $410 $401 $412 $400 $407 $405\n",
      "Average validation MAE $405\n"
     ]
    }
   ],
   "source": [
    "from sklearn.ensemble import RandomForestRegressor\n",
    "from sklearn.model_selection import train_test_split\n",
    "from sklearn.metrics import mean_absolute_error\n",
    "import numpy as np\n",
    "\n",
    "# Separate features and target variable\n",
    "X, y = df_clean.drop('price', axis=1), df_clean['price']\n",
    "\n",
    "errors = []\n",
    "print(f\"Validation MAE trials:\", end='')\n",
    "\n",
    "# Iterate the model for 10 iterations\n",
    "for i in range(10):\n",
    "    X_train, X_test, y_train, y_test = train_test_split(X, y, test_size=0.20)\n",
    "    rf = RandomForestRegressor(n_estimators=100, n_jobs=-1)\n",
    "    rf.fit(X_train, y_train)\n",
    "    y_predicted = rf.predict(X_test)\n",
    "    e = mean_absolute_error(y_test, y_predicted)\n",
    "    print(f\" ${e:.0f}\", end='')\n",
    "    errors.append(e)\n",
    "    \n",
    "print()\n",
    "noisy_avg_mae = np.mean(errors)\n",
    "print(f\"Average validation MAE ${noisy_avg_mae:.0f}\")\n"
   ]
  },
  {
   "cell_type": "markdown",
   "metadata": {},
   "source": [
    "Lasso model to improve accuracy"
   ]
  },
  {
   "cell_type": "code",
   "execution_count": 33,
   "metadata": {},
   "outputs": [
    {
     "name": "stdout",
     "output_type": "stream",
     "text": [
      "LM Training score 0.5814\n",
      "LM Validation score 0.5504\n"
     ]
    }
   ],
   "source": [
    "from sklearn.linear_model import Lasso\n",
    "\n",
    "X_train, X_test, y_train, y_test = train_test_split(X, y, test_size=0.20)\n",
    "lm = Lasso(alpha=0.5) # create linear model\n",
    "lm.fit(X_train, y_train)\n",
    "print(f\"LM Training score {lm.score(X_train, y_train):.4f}\")\n",
    "print(f\"LM Validation score {lm.score(X_test, y_test):.4f}\")"
   ]
  },
  {
   "cell_type": "markdown",
   "metadata": {},
   "source": [
    "GB training score"
   ]
  },
  {
   "cell_type": "code",
   "execution_count": 34,
   "metadata": {},
   "outputs": [
    {
     "name": "stdout",
     "output_type": "stream",
     "text": [
      "GB Training score 0.8691\n",
      "GB Validation score 0.7840\n"
     ]
    }
   ],
   "source": [
    "from sklearn.ensemble import GradientBoostingRegressor\n",
    "\n",
    "gbr = GradientBoostingRegressor(n_estimators = 2000)\n",
    "gbr.fit(X_train, y_train)\n",
    "print(f\"GB Training score {gbr.score(X_train, y_train):.4f}\")\n",
    "print(f\"GB Validation score {gbr.score(X_test, y_test):.4f}\")"
   ]
  },
  {
   "cell_type": "markdown",
   "metadata": {},
   "source": [
    "Given the  and MAE scores from our RF model and that model's favorable comparison to other models, it's reasonable to declare victory over this problem. Our solution comes from cleaning the data to make life easier on the model, rather than choosing the right model on the raw data set.\n",
    "\n",
    "How much we care about cleaning up the data depends on the model we're using and whether the offending values are in predictor variables (features) or the target. One of the advantages of RFs is that they deal gracefully with errors and outliers in the predictor variables. RFs behave like nearest-neighbor models and feature outliers are partitioned off into lonely corners of the feature space automatically. Anomalous values in the target variable are also not a problem, unless they lead to inconsistencies, samples with the same or similar feature vectors but huge variation in the target values. No model deals well with inconsistent training data.\n",
    "\n",
    "The inconsistencies in this apartment data set stem from the outliers: the extreme apartment rent prices seen in the target variable. That's why snipping out those records as “don't cares” improves model performance, but there's a final trick that you should know about that hammers down those extreme values."
   ]
  },
  {
   "cell_type": "markdown",
   "metadata": {},
   "source": [
    "#### Explanation (5 marks)\n",
    "\n",
    "Please provide an explanation and justification for the code submitted in **Part 3** in the context of the overall objective. "
   ]
  },
  {
   "cell_type": "markdown",
   "metadata": {},
   "source": [
    "where we've examined the data and done a lot a little “nip and tuck” operations. Now, we're going to perform a single cleaning transformation and get decent accuracy, all without having to look at the data and without New York City apartment domain expertise."
   ]
  },
  {
   "cell_type": "code",
   "execution_count": 37,
   "metadata": {},
   "outputs": [
    {
     "data": {
      "text/plain": [
       "2400.0"
      ]
     },
     "execution_count": 37,
     "metadata": {},
     "output_type": "execute_result"
    }
   ],
   "source": [
    "np.mean(df_local.price)"
   ]
  },
  {
   "cell_type": "code",
   "execution_count": 38,
   "metadata": {},
   "outputs": [
    {
     "data": {
      "text/plain": [
       "7.783224016336037"
      ]
     },
     "execution_count": 38,
     "metadata": {},
     "output_type": "execute_result"
    }
   ],
   "source": [
    "np.mean(np.log(df_local.price))"
   ]
  },
  {
   "cell_type": "markdown",
   "metadata": {},
   "source": [
    "#replaced df_num with df_claen"
   ]
  },
  {
   "cell_type": "code",
   "execution_count": 40,
   "metadata": {},
   "outputs": [
    {
     "name": "stdout",
     "output_type": "stream",
     "text": [
      "OOB R^2 score for log(price) 0.8229\n"
     ]
    }
   ],
   "source": [
    "X, y = df_clean.drop('price', axis=1), df_clean['price']\n",
    "y_log = np.log(y) # apply log to each price\n",
    "\n",
    "rf = RandomForestRegressor(n_estimators=100, n_jobs=-1, oob_score=True)\n",
    "rf.fit(X, y_log)\n",
    "log_oob_r2 = rf.oob_score_\n",
    "print(f\"OOB R^2 score for log(price) {log_oob_r2:.4f}\")"
   ]
  },
  {
   "cell_type": "code",
   "execution_count": 41,
   "metadata": {},
   "outputs": [],
   "source": [
    "y_predicted_log = rf.predict(X_test)\n",
    "y_predicted = np.exp(y_predicted_log)"
   ]
  },
  {
   "cell_type": "markdown",
   "metadata": {},
   "source": [
    "\n",
    "### Part 4 - Document the problems (35 marks)\n",
    "\n",
    "In this part, please use the table below to document your understanding of all the data issues you discovered. Note that **no code** should be included, as that should be covered in **Part 2**. Also, note that even if one line of code fixed a few problems, you should list each problem separately in the table below, so be sure you have investigated the data properly. For example, if the list `[-6, 5, 0, 50]` represents heights of adults, the -6, 0, and 50 would represent three data issues to be included in the table below, even though one line of code may be able to address all of them. \n",
    "\n",
    "| Data issue discovered | Why is this a problem? | How did you fix it? | Why is this fix appropriate? |\n",
    "| :- | :- | :- | :- | \n",
    "|  example problem 1  | example explanation    | example fix  | example explanation about why this fix is appropriate   |\n",
    "|  example problem 2  | example explanation    | example fix  | example explanation about why this fix is appropriate   |\n"
   ]
  },
  {
   "cell_type": "markdown",
   "metadata": {},
   "source": [
    "Certainly, here's a breakdown of the data issues discovered in the code and explanations for why they were problematic and how they were addressed:\n",
    "\n",
    "**Data Issue 1: Inconsistent Location Data**\n",
    "\n",
    "* **Why is this a problem?**\n",
    "    - Data points with invalid location coordinates (latitude and longitude both zero) represent nonsensical locations and can mislead the model. \n",
    "    - Including such data can negatively impact the model's ability to learn the relationship between features (e.g., number of bedrooms) and price based on actual locations.\n",
    "\n",
    "* **How did they fix it?**\n",
    "    - The code identified and filtered out apartments with zero latitude and longitude values using:\n",
    "        ```python\n",
    "        df_clean = df_clean[(df_clean.longitude!=0) | (df_clean.latitude!=0)]\n",
    "        ```\n",
    "\n",
    "* **Why is this fix appropriate?**\n",
    "    - Removing data points with invalid locations eliminates nonsensical outliers that could distort the model's understanding of how features relate to price in real geographic locations.\n",
    "    - This helps the model focus on learning patterns from apartments with valid locations.\n",
    "\n",
    "**Data Issue 2: Outlier Price Values**\n",
    "\n",
    "* **Why is this a problem?**\n",
    "    - Extreme price values (e.g., apartments exceeding $1 million) can be outliers that significantly skew the model's predictions. \n",
    "    - The model might prioritize these outliers during training, leading to inaccurate predictions for more typical apartments.\n",
    "\n",
    "* **How did they fix it?**\n",
    "    - The code created a subset (`df_clean`) containing only data points with prices between a reasonable range ($1,000 and $10,000). This was achieved using:\n",
    "        ```python\n",
    "        df_clean = df_clean[(df_clean.price>1_000) & (df_clean.price<10_000)]\n",
    "        ```\n",
    "\n",
    "* **Why is this fix appropriate?**\n",
    "    - By removing extreme price outliers, the model is trained on a dataset that better reflects the typical range of apartment rents in the target area. \n",
    "    - This helps the model learn more accurate relationships between features and prices for more common apartment types.\n",
    "\n",
    "These are the two main data issues addressed in the provided code. It's important to note that data cleaning is an iterative process, and there might be other data quality issues depending on the specific dataset.\n"
   ]
  },
  {
   "cell_type": "code",
   "execution_count": null,
   "metadata": {},
   "outputs": [],
   "source": []
  }
 ],
 "metadata": {
  "kernelspec": {
   "display_name": "Python 3 (ipykernel)",
   "language": "python",
   "name": "python3"
  },
  "language_info": {
   "codemirror_mode": {
    "name": "ipython",
    "version": 3
   },
   "file_extension": ".py",
   "mimetype": "text/x-python",
   "name": "python",
   "nbconvert_exporter": "python",
   "pygments_lexer": "ipython3",
   "version": "3.12.3"
  }
 },
 "nbformat": 4,
 "nbformat_minor": 4
}
